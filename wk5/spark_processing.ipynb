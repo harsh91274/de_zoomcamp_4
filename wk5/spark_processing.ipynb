{
 "cells": [
  {
   "cell_type": "code",
   "execution_count": 2,
   "metadata": {},
   "outputs": [],
   "source": [
    "import pyspark\n",
    "from pyspark.sql import SparkSession\n",
    "import pandas as pd"
   ]
  },
  {
   "cell_type": "code",
   "execution_count": 3,
   "metadata": {},
   "outputs": [],
   "source": [
    "spark=SparkSession.builder.master(\"local[*]\").appName('test2').getOrCreate()"
   ]
  },
  {
   "cell_type": "code",
   "execution_count": 4,
   "metadata": {},
   "outputs": [],
   "source": [
    "df2=spark.read.parquet(\"fhv/2021/01/\")"
   ]
  },
  {
   "cell_type": "code",
   "execution_count": 5,
   "metadata": {},
   "outputs": [
    {
     "name": "stdout",
     "output_type": "stream",
     "text": [
      "root\n",
      " |-- hvfhs_license_num: string (nullable = true)\n",
      " |-- dispatching_base_num: string (nullable = true)\n",
      " |-- pickup_datetime: timestamp (nullable = true)\n",
      " |-- dropoff_datetime: timestamp (nullable = true)\n",
      " |-- PULocationID: integer (nullable = true)\n",
      " |-- DOLocationID: integer (nullable = true)\n",
      " |-- SR_flag: string (nullable = true)\n",
      "\n"
     ]
    }
   ],
   "source": [
    "df2.printSchema()"
   ]
  },
  {
   "cell_type": "code",
   "execution_count": 6,
   "metadata": {},
   "outputs": [
    {
     "data": {
      "text/plain": [
       "[Row(hvfhs_license_num='438598', dispatching_base_num='HV0005', pickup_datetime=None, dropoff_datetime=datetime.datetime(2021, 1, 2, 5, 56, 37), PULocationID=None, DOLocationID=75, SR_flag='41')]"
      ]
     },
     "execution_count": 6,
     "metadata": {},
     "output_type": "execute_result"
    }
   ],
   "source": [
    "df2.head(1)"
   ]
  },
  {
   "cell_type": "code",
   "execution_count": 8,
   "metadata": {},
   "outputs": [
    {
     "name": "stdout",
     "output_type": "stream",
     "text": [
      "+---------------+-------------------+------------+------------+\n",
      "|pickup_datetime|   dropoff_datetime|PULocationID|DOLocationID|\n",
      "+---------------+-------------------+------------+------------+\n",
      "|           NULL|2021-01-02 05:56:37|        NULL|          75|\n",
      "+---------------+-------------------+------------+------------+\n",
      "\n"
     ]
    }
   ],
   "source": [
    "df2.select('pickup_datetime', 'dropoff_datetime', 'PULocationID', 'DOLocationID')\\\n",
    ".filter(df2.hvfhs_license_num=='438598').show()"
   ]
  },
  {
   "cell_type": "code",
   "execution_count": 17,
   "metadata": {},
   "outputs": [],
   "source": [
    "from pyspark.sql import functions as F\n",
    "from pyspark.sql import types"
   ]
  },
  {
   "cell_type": "code",
   "execution_count": null,
   "metadata": {},
   "outputs": [],
   "source": [
    "F.to_date()"
   ]
  },
  {
   "cell_type": "markdown",
   "metadata": {},
   "source": [
    "exploring UDFs"
   ]
  },
  {
   "cell_type": "code",
   "execution_count": 14,
   "metadata": {},
   "outputs": [],
   "source": [
    "def crazy_stuff(base_num):\n",
    "    num = int(base_num[1:])\n",
    "    if num % 7 == 0:\n",
    "        return f's/{num:03x}'\n",
    "    elif num % 3 == 0:\n",
    "        return f'a/{num:03x}'\n",
    "    else:\n",
    "        return f'e/{num:03x}'"
   ]
  },
  {
   "cell_type": "code",
   "execution_count": 15,
   "metadata": {},
   "outputs": [
    {
     "data": {
      "text/plain": [
       "'s/b44'"
      ]
     },
     "execution_count": 15,
     "metadata": {},
     "output_type": "execute_result"
    }
   ],
   "source": [
    "crazy_stuff('B02884')"
   ]
  },
  {
   "cell_type": "code",
   "execution_count": 18,
   "metadata": {},
   "outputs": [],
   "source": [
    "crazy_stuff_udf = F.udf(crazy_stuff, returnType=types.StringType())"
   ]
  },
  {
   "cell_type": "code",
   "execution_count": 28,
   "metadata": {},
   "outputs": [
    {
     "name": "stdout",
     "output_type": "stream",
     "text": [
      "+-----------+------------+------------+------------+\n",
      "|pickup_date|dropoff_date|PULocationID|DOLocationID|\n",
      "+-----------+------------+------------+------------+\n",
      "|       NULL|  2021-01-02|        NULL|          75|\n",
      "|       NULL|  2021-01-05|        NULL|          67|\n",
      "|       NULL|  2021-01-04|        NULL|          91|\n",
      "|       NULL|  2021-01-02|        NULL|          87|\n",
      "|       NULL|  2021-01-01|        NULL|          17|\n",
      "|       NULL|  2021-01-03|        NULL|         167|\n",
      "|       NULL|  2021-01-03|        NULL|          92|\n",
      "|       NULL|  2021-01-02|        NULL|         255|\n",
      "|       NULL|  2021-01-03|        NULL|          17|\n",
      "|       NULL|  2021-01-04|        NULL|         169|\n",
      "|       NULL|  2021-01-02|        NULL|          33|\n",
      "|       NULL|  2021-01-02|        NULL|          47|\n",
      "|       NULL|  2021-01-01|        NULL|          61|\n",
      "|       NULL|  2021-01-01|        NULL|         242|\n",
      "|       NULL|  2021-01-02|        NULL|         207|\n",
      "|       NULL|  2021-01-04|        NULL|         161|\n",
      "|       NULL|  2021-01-04|        NULL|           6|\n",
      "|       NULL|  2021-01-03|        NULL|         138|\n",
      "|       NULL|  2021-01-05|        NULL|          83|\n",
      "|       NULL|  2021-01-04|        NULL|         137|\n",
      "+-----------+------------+------------+------------+\n",
      "only showing top 20 rows\n",
      "\n"
     ]
    }
   ],
   "source": [
    "df2\\\n",
    "    .withColumn('pickup_date', F.to_date(df2.pickup_datetime))\\\n",
    "    .withColumn('dropoff_date', F.to_date(df2.dropoff_datetime))\\\n",
    "    .withColumn('base_id', crazy_stuff_udf(df2.dispatching_base_num))\\\n",
    "    .select('pickup_date', 'dropoff_date', 'PULocationID', 'DOLocationID')\\\n",
    "    .show()"
   ]
  }
 ],
 "metadata": {
  "kernelspec": {
   "display_name": "Python 3",
   "language": "python",
   "name": "python3"
  },
  "language_info": {
   "codemirror_mode": {
    "name": "ipython",
    "version": 3
   },
   "file_extension": ".py",
   "mimetype": "text/x-python",
   "name": "python",
   "nbconvert_exporter": "python",
   "pygments_lexer": "ipython3",
   "version": "3.10.11"
  }
 },
 "nbformat": 4,
 "nbformat_minor": 2
}
